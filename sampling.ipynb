{
 "cells": [
  {
   "cell_type": "markdown",
   "metadata": {},
   "source": [
    "# Import Libraries"
   ]
  },
  {
   "cell_type": "code",
   "execution_count": 1,
   "metadata": {
    "_cell_guid": "b1076dfc-b9ad-4769-8c92-a6c4dae69d19",
    "_uuid": "8f2839f25d086af736a60e9eeb907d3b93b6e0e5",
    "execution": {
     "iopub.execute_input": "2023-12-04T00:06:38.029969Z",
     "iopub.status.busy": "2023-12-04T00:06:38.029591Z",
     "iopub.status.idle": "2023-12-04T00:06:43.312604Z",
     "shell.execute_reply": "2023-12-04T00:06:43.311318Z"
    },
    "papermill": {
     "duration": 5.29537,
     "end_time": "2023-12-04T00:06:43.316341",
     "exception": false,
     "start_time": "2023-12-04T00:06:38.020971",
     "status": "completed"
    },
    "tags": []
   },
   "outputs": [
    {
     "name": "stdout",
     "output_type": "stream",
     "text": [
      "Running on device: CUDA\n"
     ]
    }
   ],
   "source": [
    "import numpy as np\n",
    "import pandas as pd\n",
    "import matplotlib.pyplot as plt\n",
    "plt.style.use(\"ggplot\")\n",
    "\n",
    "import torch\n",
    "from torch import nn\n",
    "from torch import optim\n",
    "from torch.utils.data import Dataset, DataLoader, Subset, ConcatDataset\n",
    "from torch.utils.data.sampler import WeightedRandomSampler\n",
    "\n",
    "from torchvision.models import resnet18\n",
    "\n",
    "DEVICE = \"cuda\" if torch.cuda.is_available() else \"cpu\"\n",
    "print(\"Running on device:\", DEVICE.upper())"
   ]
  },
  {
   "cell_type": "markdown",
   "metadata": {},
   "source": [
    "# Accuracy Metric"
   ]
  },
  {
   "cell_type": "code",
   "execution_count": 2,
   "metadata": {
    "execution": {
     "iopub.execute_input": "2023-12-04T00:06:43.339699Z",
     "iopub.status.busy": "2023-12-04T00:06:43.338708Z",
     "iopub.status.idle": "2023-12-04T00:06:43.355335Z",
     "shell.execute_reply": "2023-12-04T00:06:43.354444Z"
    },
    "papermill": {
     "duration": 0.029537,
     "end_time": "2023-12-04T00:06:43.357360",
     "exception": false,
     "start_time": "2023-12-04T00:06:43.327823",
     "status": "completed"
    },
    "tags": []
   },
   "outputs": [],
   "source": [
    "def accuracy(net, loader):\n",
    "    \"\"\"Return accuracy on a dataset given by the data loader.\"\"\"\n",
    "    correct = 0\n",
    "    total = 0\n",
    "    for inputs, targets in loader:\n",
    "        inputs, targets = inputs.to(DEVICE), targets.to(DEVICE)\n",
    "        outputs = net(inputs)\n",
    "        _, predicted = outputs.max(1)\n",
    "        total += targets.size(0)\n",
    "        correct += predicted.eq(targets).sum().item()\n",
    "    return correct / total"
   ]
  },
  {
   "cell_type": "code",
   "execution_count": 3,
   "metadata": {
    "execution": {
     "iopub.execute_input": "2023-12-04T00:06:43.524070Z",
     "iopub.status.busy": "2023-12-04T00:06:43.523834Z",
     "iopub.status.idle": "2023-12-04T00:06:43.535665Z",
     "shell.execute_reply": "2023-12-04T00:06:43.534913Z"
    },
    "papermill": {
     "duration": 0.021054,
     "end_time": "2023-12-04T00:06:43.537435",
     "exception": false,
     "start_time": "2023-12-04T00:06:43.516381",
     "status": "completed"
    },
    "tags": []
   },
   "outputs": [],
   "source": [
    "class HiddenDataset(Dataset):\n",
    "    '''The hidden dataset.'''\n",
    "    def __init__(self, dataset):\n",
    "        super().__init__()\n",
    "        self.dataset = dataset\n",
    "\n",
    "    def __len__(self):\n",
    "        return len(self.dataset)\n",
    "\n",
    "    def __getitem__(self, idx):\n",
    "        example = self.dataset[idx]\n",
    "        return example[0], example[1], idx\n",
    "    \n",
    "def sampling(net, train_set, compact_train_set, compact_test_set, net_state_dict): \n",
    "    epochs = 30\n",
    "    \n",
    "    compact_train_labels = torch.from_numpy(np.zeros((len(compact_train_set),))).long()\n",
    "    compact_test_labels = torch.from_numpy(np.zeros((len(compact_test_set),))).long()\n",
    "    for i, (inputs, targets) in enumerate(compact_train_set):\n",
    "        compact_train_labels[i] = targets\n",
    "    for i, (inputs, targets) in enumerate(compact_test_set):\n",
    "        compact_test_labels[i] = targets\n",
    "    \n",
    "    mixed_data_set = ConcatDataset([compact_test_set,compact_train_set])\n",
    "    \n",
    "    sampling_weights = np.zeros((len(mixed_data_set),))\n",
    "    for i in range(len(mixed_data_set)):\n",
    "        if i < len(compact_test_set):\n",
    "            sampling_weights[i] = len(mixed_data_set)/(len(compact_test_set)*2)\n",
    "        else:\n",
    "            sampling_weights[i] = len(mixed_data_set)/(len(compact_train_set)*2)\n",
    "    sampler = WeightedRandomSampler(sampling_weights, 512*512, replacement=True)\n",
    "    mixed_data_set = HiddenDataset(mixed_data_set)\n",
    "    mixed_data_loader = DataLoader(\n",
    "        mixed_data_set, batch_size=128, sampler = sampler)\n",
    "    \n",
    "    data_loader = DataLoader(\n",
    "        train_set, batch_size=128, shuffle=True, drop_last=True)\n",
    "    \n",
    "    uncond_cohesive_scores = torch.from_numpy(np.zeros((len(compact_test_set),len(compact_train_set),10))).long()\n",
    "    cohesive_scores = torch.from_numpy(np.zeros((len(compact_test_set),len(compact_train_set),1))).long()\n",
    "    \n",
    "    optimizer = optim.SGD(net.parameters(), lr=0.001, momentum=0.9, weight_decay=4e-3)\n",
    "    scheduler = optim.lr_scheduler.CosineAnnealingLR(optimizer, T_max=epochs)\n",
    "    test_net = resnet18(pretrained=False, num_classes=10)\n",
    "    test_net.to(DEVICE)\n",
    "    \n",
    "    net.train()\n",
    "    test_net.eval()\n",
    "    for epoch in range(epochs):\n",
    "        for i, (inputs, targets) in enumerate(data_loader):\n",
    "            net.load_state_dict(net_state_dict)\n",
    "            test_net.load_state_dict(net.state_dict())\n",
    "            \n",
    "            inputs, targets = inputs.to(DEVICE), targets.to(DEVICE)\n",
    "            targets = torch.nn.functional.one_hot(targets, num_classes=10).float()\n",
    "            \n",
    "            optimizer.zero_grad()\n",
    "            output = net(inputs)\n",
    "            loss = -(torch.log_softmax(output,dim=-1).view(-1,1,10) @ targets.view(-1,10,1)).mean()\n",
    "\n",
    "            loss.backward()\n",
    "            optimizer.step()\n",
    "            \n",
    "            net.eval()\n",
    "            test_net.eval()\n",
    "            for fn_inputs, fn_targets, fn_indices in mixed_data_loader:\n",
    "                fn_inputs, fn_targets, fn_indices = fn_inputs.to(DEVICE), fn_targets.to(DEVICE), fn_indices.to(DEVICE)\n",
    "                f_masks = fn_indices<len(compact_test_set)\n",
    "                f_indices = fn_indices[f_masks]\n",
    "                n_indices = fn_indices[~f_masks]-len(compact_test_set)\n",
    "                \n",
    "                with torch.no_grad():\n",
    "                    mask = torch.arange(10).to(DEVICE).reshape(1,-1)\n",
    "                    mask = (mask == fn_targets.reshape(-1,1))\n",
    "                    \n",
    "                    output0 = torch.softmax(net(fn_inputs),dim=1).detach()\n",
    "                    output1 = torch.softmax(test_net(fn_inputs),dim=1).detach()\n",
    "                    perc = torch.sign(output0-output1).long().reshape(-1,10)\n",
    "                    f_sc = perc[f_masks,:]\n",
    "                    \n",
    "                    output0 = torch.masked_select(output0,mask)\n",
    "                    output1 = torch.masked_select(output1,mask)\n",
    "                    perc = torch.sign(output0-output1).long().reshape(-1,1)\n",
    "                    n_sc = perc[~f_masks,:]\n",
    "\n",
    "                    ones = torch.ones(len(f_sc),len(n_sc),10).long().to(DEVICE)\n",
    "                    f_sq = torch.mul(ones,n_sc.view(1,-1,1))\n",
    "                    f_sq = torch.mul(f_sq,f_sc.view(-1,1,10))\n",
    "                    f_indices_sq = f_indices.view(-1,1).expand(len(f_sc),len(n_sc))\n",
    "                    n_indices_sq = n_indices.view(1,-1).expand(len(f_sc),len(n_sc))\n",
    "                    f_sq = f_sq.cpu().reshape(-1,10)\n",
    "                    f_indices_sq = f_indices_sq.cpu().reshape(-1)\n",
    "                    n_indices_sq = n_indices_sq.cpu().reshape(-1)\n",
    "                    \n",
    "                    uncond_cohesive_scores[f_indices_sq,n_indices_sq,:] = uncond_cohesive_scores[f_indices_sq,n_indices_sq,:]+f_sq\n",
    "                    \n",
    "                    #==============================================#\n",
    "                        \n",
    "                    f_sc = perc[f_masks,:]\n",
    "\n",
    "                    ones = torch.ones(len(f_sc),len(n_sc),1).long().to(DEVICE)\n",
    "                    f_sq = torch.mul(ones,n_sc.view(1,-1,1))\n",
    "                    f_sq = torch.mul(f_sq,f_sc.view(-1,1,1))\n",
    "                    f_indices_sq = f_indices.view(-1,1).expand(len(f_sc),len(n_sc))\n",
    "                    n_indices_sq = n_indices.view(1,-1).expand(len(f_sc),len(n_sc))\n",
    "                    f_sq = f_sq.cpu().reshape(-1,1)\n",
    "                    f_indices_sq = f_indices_sq.cpu().reshape(-1)\n",
    "                    n_indices_sq = n_indices_sq.cpu().reshape(-1)\n",
    "                    \n",
    "                    cohesive_scores[f_indices_sq,n_indices_sq,:] = cohesive_scores[f_indices_sq,n_indices_sq,:]+f_sq\n",
    "            net.train()\n",
    "            break\n",
    "            \n",
    "        scheduler.step()\n",
    "    net.eval()\n",
    "    np.save(\"./tmp/uncond_cohesive_scores.npy\", uncond_cohesive_scores.numpy())\n",
    "    np.save(\"./tmp/cohesive_scores.npy\", cohesive_scores.numpy())\n",
    "    np.save(\"./tmp/compact_train_labels.npy\", compact_train_labels.numpy())\n",
    "    np.save(\"./tmp/compact_test_labels.npy\", compact_test_labels.numpy())\n",
    "    \n",
    "    return 0\n"
   ]
  },
  {
   "cell_type": "markdown",
   "metadata": {},
   "source": [
    "# Sampling"
   ]
  },
  {
   "cell_type": "code",
   "execution_count": 4,
   "metadata": {},
   "outputs": [],
   "source": [
    "from torch.utils.data import random_split\n",
    "\n",
    "import torchvision\n",
    "from torchvision import transforms\n",
    "from sklearn.model_selection import train_test_split\n",
    "def load_data():\n",
    "    \"\"\"Load data sets was created\n",
    "    \"\"\"\n",
    "    normalize = transforms.Compose([\n",
    "            transforms.ToTensor(),\n",
    "            transforms.Normalize((0.4914, 0.4822, 0.4465), (0.2023, 0.1994, 0.2010))])\n",
    "\n",
    "    train_set = torchvision.datasets.CIFAR10(\n",
    "        root=\"./data\", train=True, download=True, transform=normalize)\n",
    "    # Load retain-train set and compact train set\n",
    "    retain_train_idx = np.load(\"retain_train_idx.npy\")\n",
    "    compact_train_idx = np.load(\"compact_train_idx.npy\")\n",
    "    retain_train_set = Subset(train_set, retain_train_idx)\n",
    "    compact_train_set = Subset(train_set, compact_train_idx)\n",
    "    \n",
    "    # Load retain-test set and compact test set\n",
    "    test_set = torchvision.datasets.CIFAR10(\n",
    "        root=\"./data\", train=False, download=True, transform=normalize)\n",
    "    retain_test_idx = np.load(\"retain_test_idx.npy\")\n",
    "    compact_test_idx = np.load(\"compact_test_idx.npy\")\n",
    "    retain_test_set = Subset(test_set, retain_test_idx)\n",
    "    compact_test_set = Subset(test_set, compact_test_idx)\n",
    "\n",
    "    retain_train_loader = DataLoader(\n",
    "        retain_train_set, batch_size=128, shuffle=True)\n",
    "    compact_train_loader = DataLoader(\n",
    "        compact_train_set, batch_size=128, shuffle=True)\n",
    "    \n",
    "    retain_test_loader = DataLoader(\n",
    "        retain_test_set, batch_size=128, shuffle=False)\n",
    "    compact_test_loader = DataLoader(\n",
    "        compact_test_set, batch_size=128, shuffle=False)\n",
    "    \n",
    "    return {\n",
    "        \"retain_train\": retain_train_loader,\n",
    "        \"compact_train\": compact_train_loader,\n",
    "        \"retain_test\": retain_test_loader,\n",
    "        \"compact_test\": compact_test_loader\n",
    "    }"
   ]
  },
  {
   "cell_type": "code",
   "execution_count": 5,
   "metadata": {
    "execution": {
     "iopub.execute_input": "2023-12-04T00:06:43.552075Z",
     "iopub.status.busy": "2023-12-04T00:06:43.551837Z",
     "iopub.status.idle": "2023-12-04T02:12:27.584284Z",
     "shell.execute_reply": "2023-12-04T02:12:27.583354Z"
    },
    "papermill": {
     "duration": 7544.042532,
     "end_time": "2023-12-04T02:12:27.586816",
     "exception": false,
     "start_time": "2023-12-04T00:06:43.544284",
     "status": "completed"
    },
    "tags": []
   },
   "outputs": [
    {
     "name": "stdout",
     "output_type": "stream",
     "text": [
      "Files already downloaded and verified\n",
      "Files already downloaded and verified\n"
     ]
    },
    {
     "data": {
      "text/plain": [
       "0"
      ]
     },
     "execution_count": 5,
     "metadata": {},
     "output_type": "execute_result"
    }
   ],
   "source": [
    "data_loaders = load_data()\n",
    "\n",
    "net_state_dict = torch.load(\"./tmp/checkpoint.pth\")\n",
    "net = resnet18(pretrained=False, num_classes=10)\n",
    "net.to(DEVICE)\n",
    "net.load_state_dict(net_state_dict)\n",
    "sampling(net, ConcatDataset([(data_loaders[\"retain_train\"]).dataset, (data_loaders[\"compact_train\"]).dataset]), (data_loaders[\"compact_train\"]).dataset, (data_loaders[\"compact_test\"]).dataset, net_state_dict)"
   ]
  },
  {
   "cell_type": "markdown",
   "metadata": {},
   "source": [
    "# Load tables of cohesive degree"
   ]
  },
  {
   "cell_type": "code",
   "execution_count": 6,
   "metadata": {},
   "outputs": [],
   "source": [
    "uncond_cohesive_scores_np = np.load(\"./tmp/uncond_cohesive_scores.npy\")\n",
    "cohesive_scores_np = np.load(\"./tmp/cohesive_scores.npy\")\n",
    "compact_train_labels_np = np.load(\"./tmp/compact_train_labels.npy\")\n",
    "compact_test_labels_np = np.load(\"./tmp/compact_test_labels.npy\")\n",
    "\n",
    "uncond_cohesive_scores = torch.from_numpy(uncond_cohesive_scores_np)\n",
    "cohesive_scores = torch.from_numpy(cohesive_scores_np)\n",
    "compact_train_labels = torch.from_numpy(compact_train_labels_np)\n",
    "compact_test_labels = torch.from_numpy(compact_test_labels_np)"
   ]
  },
  {
   "cell_type": "markdown",
   "metadata": {},
   "source": [
    "# Experiments' result"
   ]
  },
  {
   "cell_type": "markdown",
   "metadata": {},
   "source": [
    "Experiment 1"
   ]
  },
  {
   "cell_type": "code",
   "execution_count": 7,
   "metadata": {},
   "outputs": [
    {
     "data": {
      "text/plain": [
       "tensor(0.9258)"
      ]
     },
     "execution_count": 7,
     "metadata": {},
     "output_type": "execute_result"
    }
   ],
   "source": [
    "score_values, uncond_indices = torch.max(cohesive_scores,dim=1,keepdim=False)\n",
    "uncond_masks = (torch.arange(len(compact_train_labels)).reshape(1,-1) == uncond_indices.reshape(-1,1))\n",
    "predicts = (torch.masked_select(compact_train_labels.reshape(1,-1),uncond_masks)).reshape(-1)\n",
    "acc = (predicts==compact_test_labels.reshape(-1)).float()\n",
    "acc = acc.sum()/len(acc)\n",
    "acc"
   ]
  },
  {
   "cell_type": "markdown",
   "metadata": {},
   "source": [
    "Experiment 2"
   ]
  },
  {
   "cell_type": "code",
   "execution_count": 8,
   "metadata": {},
   "outputs": [
    {
     "data": {
      "text/plain": [
       "tensor(0.7480)"
      ]
     },
     "execution_count": 8,
     "metadata": {},
     "output_type": "execute_result"
    }
   ],
   "source": [
    "identical_label_masks = (torch.arange(10).reshape(1,-1) == compact_train_labels.reshape(-1,1)).reshape(1,-1)\n",
    "identical_label_cohesive_scores = uncond_cohesive_scores.reshape(uncond_cohesive_scores.size(0),-1).masked_scatter(~identical_label_masks, torch.zeros_like(uncond_cohesive_scores).reshape(uncond_cohesive_scores.size(0),-1))\n",
    "identical_label_cohesive_scores = identical_label_cohesive_scores.reshape(uncond_cohesive_scores.size(0), uncond_cohesive_scores.size(1), uncond_cohesive_scores.size(2))\n",
    "\n",
    "uncond_score_values, uncond_uncond_indices = torch.max(identical_label_cohesive_scores,dim=1,keepdim=False)\n",
    "uncond_uncond_masks = (torch.arange(len(compact_train_labels)).reshape(1,-1) == uncond_uncond_indices.reshape(-1,1))\n",
    "uncond_uncond_labels = (torch.masked_select(compact_train_labels.reshape(1,-1),uncond_uncond_masks)).reshape(-1,10)\n",
    "uncond_predict_indices = torch.argmax(uncond_score_values,dim=-1,keepdim=False)\n",
    "uncond_predicts = uncond_uncond_labels[range(len(uncond_predict_indices)),uncond_predict_indices]\n",
    "acc = (uncond_predicts==compact_test_labels.reshape(-1)).float()\n",
    "acc = acc.sum()/len(acc)\n",
    "acc"
   ]
  },
  {
   "cell_type": "markdown",
   "metadata": {},
   "source": [
    "Accuracies of arg-max algorithm on retain training set and retain test set, respectively. "
   ]
  },
  {
   "cell_type": "code",
   "execution_count": 9,
   "metadata": {},
   "outputs": [
    {
     "name": "stdout",
     "output_type": "stream",
     "text": [
      "(0.999979793081151, 0.8138701517706577)\n"
     ]
    }
   ],
   "source": [
    "retain_accuracy = accuracy(net, data_loaders[\"retain_train\"])\n",
    "test_accuracy = accuracy(net, data_loaders[\"retain_test\"])\n",
    "print((retain_accuracy,test_accuracy))"
   ]
  },
  {
   "cell_type": "code",
   "execution_count": null,
   "metadata": {},
   "outputs": [],
   "source": []
  }
 ],
 "metadata": {
  "kaggle": {
   "accelerator": "gpu",
   "dataSources": [
    {
     "sourceId": 153432666,
     "sourceType": "kernelVersion"
    }
   ],
   "dockerImageVersionId": 30588,
   "isGpuEnabled": true,
   "isInternetEnabled": true,
   "language": "python",
   "sourceType": "notebook"
  },
  "kernelspec": {
   "display_name": "Python 3",
   "language": "python",
   "name": "python3"
  },
  "language_info": {
   "codemirror_mode": {
    "name": "ipython",
    "version": 3
   },
   "file_extension": ".py",
   "mimetype": "text/x-python",
   "name": "python",
   "nbconvert_exporter": "python",
   "pygments_lexer": "ipython3",
   "version": "3.6.7"
  },
  "papermill": {
   "default_parameters": {},
   "duration": 7556.627451,
   "end_time": "2023-12-04T02:12:31.279986",
   "environment_variables": {},
   "exception": null,
   "input_path": "__notebook__.ipynb",
   "output_path": "__notebook__.ipynb",
   "parameters": {},
   "start_time": "2023-12-04T00:06:34.652535",
   "version": "2.4.0"
  },
  "widgets": {
   "application/vnd.jupyter.widget-state+json": {
    "state": {
     "00941f452b014da48d6d80a1a6b18fa1": {
      "model_module": "@jupyter-widgets/controls",
      "model_module_version": "1.5.0",
      "model_name": "DescriptionStyleModel",
      "state": {
       "_model_module": "@jupyter-widgets/controls",
       "_model_module_version": "1.5.0",
       "_model_name": "DescriptionStyleModel",
       "_view_count": null,
       "_view_module": "@jupyter-widgets/base",
       "_view_module_version": "1.2.0",
       "_view_name": "StyleView",
       "description_width": ""
      }
     },
     "212e7186ec7a4bdeb6518e0f9e417d92": {
      "model_module": "@jupyter-widgets/base",
      "model_module_version": "1.2.0",
      "model_name": "LayoutModel",
      "state": {
       "_model_module": "@jupyter-widgets/base",
       "_model_module_version": "1.2.0",
       "_model_name": "LayoutModel",
       "_view_count": null,
       "_view_module": "@jupyter-widgets/base",
       "_view_module_version": "1.2.0",
       "_view_name": "LayoutView",
       "align_content": null,
       "align_items": null,
       "align_self": null,
       "border": null,
       "bottom": null,
       "display": null,
       "flex": null,
       "flex_flow": null,
       "grid_area": null,
       "grid_auto_columns": null,
       "grid_auto_flow": null,
       "grid_auto_rows": null,
       "grid_column": null,
       "grid_gap": null,
       "grid_row": null,
       "grid_template_areas": null,
       "grid_template_columns": null,
       "grid_template_rows": null,
       "height": null,
       "justify_content": null,
       "justify_items": null,
       "left": null,
       "margin": null,
       "max_height": null,
       "max_width": null,
       "min_height": null,
       "min_width": null,
       "object_fit": null,
       "object_position": null,
       "order": null,
       "overflow": null,
       "overflow_x": null,
       "overflow_y": null,
       "padding": null,
       "right": null,
       "top": null,
       "visibility": null,
       "width": null
      }
     },
     "5f9775e5c6d044da9eda0a4621a4e15d": {
      "model_module": "@jupyter-widgets/controls",
      "model_module_version": "1.5.0",
      "model_name": "ProgressStyleModel",
      "state": {
       "_model_module": "@jupyter-widgets/controls",
       "_model_module_version": "1.5.0",
       "_model_name": "ProgressStyleModel",
       "_view_count": null,
       "_view_module": "@jupyter-widgets/base",
       "_view_module_version": "1.2.0",
       "_view_name": "StyleView",
       "bar_color": null,
       "description_width": ""
      }
     },
     "6ac4481d836d49adbd39ba40c3174396": {
      "model_module": "@jupyter-widgets/controls",
      "model_module_version": "1.5.0",
      "model_name": "HTMLModel",
      "state": {
       "_dom_classes": [],
       "_model_module": "@jupyter-widgets/controls",
       "_model_module_version": "1.5.0",
       "_model_name": "HTMLModel",
       "_view_count": null,
       "_view_module": "@jupyter-widgets/controls",
       "_view_module_version": "1.5.0",
       "_view_name": "HTMLView",
       "description": "",
       "description_tooltip": null,
       "layout": "IPY_MODEL_ca7166462d984abf8a9fc3d867a0b9bc",
       "placeholder": "​",
       "style": "IPY_MODEL_a4685147111d436898aff3b8248e8a99",
       "value": "Computing forget accuracy...: 100%"
      }
     },
     "8d12c38974d748e9a72857e1872b307c": {
      "model_module": "@jupyter-widgets/controls",
      "model_module_version": "1.5.0",
      "model_name": "FloatProgressModel",
      "state": {
       "_dom_classes": [],
       "_model_module": "@jupyter-widgets/controls",
       "_model_module_version": "1.5.0",
       "_model_name": "FloatProgressModel",
       "_view_count": null,
       "_view_module": "@jupyter-widgets/controls",
       "_view_module_version": "1.5.0",
       "_view_name": "ProgressView",
       "bar_style": "success",
       "description": "",
       "description_tooltip": null,
       "layout": "IPY_MODEL_a9249a30a88447d3a5ca03a505b9ed8a",
       "max": 10,
       "min": 0,
       "orientation": "horizontal",
       "style": "IPY_MODEL_5f9775e5c6d044da9eda0a4621a4e15d",
       "value": 10
      }
     },
     "a41950d489554250805e52583dddb4ad": {
      "model_module": "@jupyter-widgets/base",
      "model_module_version": "1.2.0",
      "model_name": "LayoutModel",
      "state": {
       "_model_module": "@jupyter-widgets/base",
       "_model_module_version": "1.2.0",
       "_model_name": "LayoutModel",
       "_view_count": null,
       "_view_module": "@jupyter-widgets/base",
       "_view_module_version": "1.2.0",
       "_view_name": "LayoutView",
       "align_content": null,
       "align_items": null,
       "align_self": null,
       "border": null,
       "bottom": null,
       "display": null,
       "flex": null,
       "flex_flow": null,
       "grid_area": null,
       "grid_auto_columns": null,
       "grid_auto_flow": null,
       "grid_auto_rows": null,
       "grid_column": null,
       "grid_gap": null,
       "grid_row": null,
       "grid_template_areas": null,
       "grid_template_columns": null,
       "grid_template_rows": null,
       "height": null,
       "justify_content": null,
       "justify_items": null,
       "left": null,
       "margin": null,
       "max_height": null,
       "max_width": null,
       "min_height": null,
       "min_width": null,
       "object_fit": null,
       "object_position": null,
       "order": null,
       "overflow": null,
       "overflow_x": null,
       "overflow_y": null,
       "padding": null,
       "right": null,
       "top": null,
       "visibility": null,
       "width": null
      }
     },
     "a4685147111d436898aff3b8248e8a99": {
      "model_module": "@jupyter-widgets/controls",
      "model_module_version": "1.5.0",
      "model_name": "DescriptionStyleModel",
      "state": {
       "_model_module": "@jupyter-widgets/controls",
       "_model_module_version": "1.5.0",
       "_model_name": "DescriptionStyleModel",
       "_view_count": null,
       "_view_module": "@jupyter-widgets/base",
       "_view_module_version": "1.2.0",
       "_view_name": "StyleView",
       "description_width": ""
      }
     },
     "a9249a30a88447d3a5ca03a505b9ed8a": {
      "model_module": "@jupyter-widgets/base",
      "model_module_version": "1.2.0",
      "model_name": "LayoutModel",
      "state": {
       "_model_module": "@jupyter-widgets/base",
       "_model_module_version": "1.2.0",
       "_model_name": "LayoutModel",
       "_view_count": null,
       "_view_module": "@jupyter-widgets/base",
       "_view_module_version": "1.2.0",
       "_view_name": "LayoutView",
       "align_content": null,
       "align_items": null,
       "align_self": null,
       "border": null,
       "bottom": null,
       "display": null,
       "flex": null,
       "flex_flow": null,
       "grid_area": null,
       "grid_auto_columns": null,
       "grid_auto_flow": null,
       "grid_auto_rows": null,
       "grid_column": null,
       "grid_gap": null,
       "grid_row": null,
       "grid_template_areas": null,
       "grid_template_columns": null,
       "grid_template_rows": null,
       "height": null,
       "justify_content": null,
       "justify_items": null,
       "left": null,
       "margin": null,
       "max_height": null,
       "max_width": null,
       "min_height": null,
       "min_width": null,
       "object_fit": null,
       "object_position": null,
       "order": null,
       "overflow": null,
       "overflow_x": null,
       "overflow_y": null,
       "padding": null,
       "right": null,
       "top": null,
       "visibility": null,
       "width": null
      }
     },
     "ca7166462d984abf8a9fc3d867a0b9bc": {
      "model_module": "@jupyter-widgets/base",
      "model_module_version": "1.2.0",
      "model_name": "LayoutModel",
      "state": {
       "_model_module": "@jupyter-widgets/base",
       "_model_module_version": "1.2.0",
       "_model_name": "LayoutModel",
       "_view_count": null,
       "_view_module": "@jupyter-widgets/base",
       "_view_module_version": "1.2.0",
       "_view_name": "LayoutView",
       "align_content": null,
       "align_items": null,
       "align_self": null,
       "border": null,
       "bottom": null,
       "display": null,
       "flex": null,
       "flex_flow": null,
       "grid_area": null,
       "grid_auto_columns": null,
       "grid_auto_flow": null,
       "grid_auto_rows": null,
       "grid_column": null,
       "grid_gap": null,
       "grid_row": null,
       "grid_template_areas": null,
       "grid_template_columns": null,
       "grid_template_rows": null,
       "height": null,
       "justify_content": null,
       "justify_items": null,
       "left": null,
       "margin": null,
       "max_height": null,
       "max_width": null,
       "min_height": null,
       "min_width": null,
       "object_fit": null,
       "object_position": null,
       "order": null,
       "overflow": null,
       "overflow_x": null,
       "overflow_y": null,
       "padding": null,
       "right": null,
       "top": null,
       "visibility": null,
       "width": null
      }
     },
     "dcff9d39c99747c29b080f10e9e4ceb9": {
      "model_module": "@jupyter-widgets/controls",
      "model_module_version": "1.5.0",
      "model_name": "HBoxModel",
      "state": {
       "_dom_classes": [],
       "_model_module": "@jupyter-widgets/controls",
       "_model_module_version": "1.5.0",
       "_model_name": "HBoxModel",
       "_view_count": null,
       "_view_module": "@jupyter-widgets/controls",
       "_view_module_version": "1.5.0",
       "_view_name": "HBoxView",
       "box_style": "",
       "children": [
        "IPY_MODEL_6ac4481d836d49adbd39ba40c3174396",
        "IPY_MODEL_8d12c38974d748e9a72857e1872b307c",
        "IPY_MODEL_edc95e562467482bba9a8bdd25c9372d"
       ],
       "layout": "IPY_MODEL_212e7186ec7a4bdeb6518e0f9e417d92"
      }
     },
     "edc95e562467482bba9a8bdd25c9372d": {
      "model_module": "@jupyter-widgets/controls",
      "model_module_version": "1.5.0",
      "model_name": "HTMLModel",
      "state": {
       "_dom_classes": [],
       "_model_module": "@jupyter-widgets/controls",
       "_model_module_version": "1.5.0",
       "_model_name": "HTMLModel",
       "_view_count": null,
       "_view_module": "@jupyter-widgets/controls",
       "_view_module_version": "1.5.0",
       "_view_name": "HTMLView",
       "description": "",
       "description_tooltip": null,
       "layout": "IPY_MODEL_a41950d489554250805e52583dddb4ad",
       "placeholder": "​",
       "style": "IPY_MODEL_00941f452b014da48d6d80a1a6b18fa1",
       "value": " 10/10 [2:05:18&lt;00:00, 751.29s/it]"
      }
     }
    },
    "version_major": 2,
    "version_minor": 0
   }
  }
 },
 "nbformat": 4,
 "nbformat_minor": 5
}
